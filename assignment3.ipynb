{
 "cells": [
  {
   "cell_type": "code",
   "execution_count": 2,
   "metadata": {},
   "outputs": [],
   "source": [
    "import numpy as np\n",
    "import pandas as pd\n",
    "from sklearn.model_selection import train_test_split\n",
    "from sklearn.ensemble import RandomForestClassifier\n",
    "from sklearn.tree import DecisionTreeClassifier\n",
    "from sklearn.model_selection import cross_val_score\n",
    "from sklearn.model_selection import GridSearchCV\n",
    "import matplotlib.pyplot as plt"
   ]
  },
  {
   "cell_type": "code",
   "execution_count": 3,
   "metadata": {},
   "outputs": [],
   "source": [
    "df = pd.read_csv('sonar.all-data')"
   ]
  },
  {
   "cell_type": "code",
   "execution_count": 4,
   "metadata": {},
   "outputs": [
    {
     "data": {
      "text/plain": [
       "(207, 61)"
      ]
     },
     "execution_count": 4,
     "metadata": {},
     "output_type": "execute_result"
    }
   ],
   "source": [
    "df.shape"
   ]
  },
  {
   "cell_type": "code",
   "execution_count": 5,
   "metadata": {},
   "outputs": [
    {
     "data": {
      "text/html": [
       "<div>\n",
       "<style scoped>\n",
       "    .dataframe tbody tr th:only-of-type {\n",
       "        vertical-align: middle;\n",
       "    }\n",
       "\n",
       "    .dataframe tbody tr th {\n",
       "        vertical-align: top;\n",
       "    }\n",
       "\n",
       "    .dataframe thead th {\n",
       "        text-align: right;\n",
       "    }\n",
       "</style>\n",
       "<table border=\"1\" class=\"dataframe\">\n",
       "  <thead>\n",
       "    <tr style=\"text-align: right;\">\n",
       "      <th></th>\n",
       "      <th>0.0200</th>\n",
       "      <th>0.0371</th>\n",
       "      <th>0.0428</th>\n",
       "      <th>0.0207</th>\n",
       "      <th>0.0954</th>\n",
       "      <th>0.0986</th>\n",
       "      <th>0.1539</th>\n",
       "      <th>0.1601</th>\n",
       "      <th>0.3109</th>\n",
       "      <th>0.2111</th>\n",
       "      <th>...</th>\n",
       "      <th>0.0027</th>\n",
       "      <th>0.0065</th>\n",
       "      <th>0.0159</th>\n",
       "      <th>0.0072</th>\n",
       "      <th>0.0167</th>\n",
       "      <th>0.0180</th>\n",
       "      <th>0.0084</th>\n",
       "      <th>0.0090</th>\n",
       "      <th>0.0032</th>\n",
       "      <th>R</th>\n",
       "    </tr>\n",
       "  </thead>\n",
       "  <tbody>\n",
       "    <tr>\n",
       "      <th>0</th>\n",
       "      <td>0.0453</td>\n",
       "      <td>0.0523</td>\n",
       "      <td>0.0843</td>\n",
       "      <td>0.0689</td>\n",
       "      <td>0.1183</td>\n",
       "      <td>0.2583</td>\n",
       "      <td>0.2156</td>\n",
       "      <td>0.3481</td>\n",
       "      <td>0.3337</td>\n",
       "      <td>0.2872</td>\n",
       "      <td>...</td>\n",
       "      <td>0.0084</td>\n",
       "      <td>0.0089</td>\n",
       "      <td>0.0048</td>\n",
       "      <td>0.0094</td>\n",
       "      <td>0.0191</td>\n",
       "      <td>0.0140</td>\n",
       "      <td>0.0049</td>\n",
       "      <td>0.0052</td>\n",
       "      <td>0.0044</td>\n",
       "      <td>R</td>\n",
       "    </tr>\n",
       "    <tr>\n",
       "      <th>1</th>\n",
       "      <td>0.0262</td>\n",
       "      <td>0.0582</td>\n",
       "      <td>0.1099</td>\n",
       "      <td>0.1083</td>\n",
       "      <td>0.0974</td>\n",
       "      <td>0.2280</td>\n",
       "      <td>0.2431</td>\n",
       "      <td>0.3771</td>\n",
       "      <td>0.5598</td>\n",
       "      <td>0.6194</td>\n",
       "      <td>...</td>\n",
       "      <td>0.0232</td>\n",
       "      <td>0.0166</td>\n",
       "      <td>0.0095</td>\n",
       "      <td>0.0180</td>\n",
       "      <td>0.0244</td>\n",
       "      <td>0.0316</td>\n",
       "      <td>0.0164</td>\n",
       "      <td>0.0095</td>\n",
       "      <td>0.0078</td>\n",
       "      <td>R</td>\n",
       "    </tr>\n",
       "    <tr>\n",
       "      <th>2</th>\n",
       "      <td>0.0100</td>\n",
       "      <td>0.0171</td>\n",
       "      <td>0.0623</td>\n",
       "      <td>0.0205</td>\n",
       "      <td>0.0205</td>\n",
       "      <td>0.0368</td>\n",
       "      <td>0.1098</td>\n",
       "      <td>0.1276</td>\n",
       "      <td>0.0598</td>\n",
       "      <td>0.1264</td>\n",
       "      <td>...</td>\n",
       "      <td>0.0121</td>\n",
       "      <td>0.0036</td>\n",
       "      <td>0.0150</td>\n",
       "      <td>0.0085</td>\n",
       "      <td>0.0073</td>\n",
       "      <td>0.0050</td>\n",
       "      <td>0.0044</td>\n",
       "      <td>0.0040</td>\n",
       "      <td>0.0117</td>\n",
       "      <td>R</td>\n",
       "    </tr>\n",
       "    <tr>\n",
       "      <th>3</th>\n",
       "      <td>0.0762</td>\n",
       "      <td>0.0666</td>\n",
       "      <td>0.0481</td>\n",
       "      <td>0.0394</td>\n",
       "      <td>0.0590</td>\n",
       "      <td>0.0649</td>\n",
       "      <td>0.1209</td>\n",
       "      <td>0.2467</td>\n",
       "      <td>0.3564</td>\n",
       "      <td>0.4459</td>\n",
       "      <td>...</td>\n",
       "      <td>0.0031</td>\n",
       "      <td>0.0054</td>\n",
       "      <td>0.0105</td>\n",
       "      <td>0.0110</td>\n",
       "      <td>0.0015</td>\n",
       "      <td>0.0072</td>\n",
       "      <td>0.0048</td>\n",
       "      <td>0.0107</td>\n",
       "      <td>0.0094</td>\n",
       "      <td>R</td>\n",
       "    </tr>\n",
       "    <tr>\n",
       "      <th>4</th>\n",
       "      <td>0.0286</td>\n",
       "      <td>0.0453</td>\n",
       "      <td>0.0277</td>\n",
       "      <td>0.0174</td>\n",
       "      <td>0.0384</td>\n",
       "      <td>0.0990</td>\n",
       "      <td>0.1201</td>\n",
       "      <td>0.1833</td>\n",
       "      <td>0.2105</td>\n",
       "      <td>0.3039</td>\n",
       "      <td>...</td>\n",
       "      <td>0.0045</td>\n",
       "      <td>0.0014</td>\n",
       "      <td>0.0038</td>\n",
       "      <td>0.0013</td>\n",
       "      <td>0.0089</td>\n",
       "      <td>0.0057</td>\n",
       "      <td>0.0027</td>\n",
       "      <td>0.0051</td>\n",
       "      <td>0.0062</td>\n",
       "      <td>R</td>\n",
       "    </tr>\n",
       "  </tbody>\n",
       "</table>\n",
       "<p>5 rows × 61 columns</p>\n",
       "</div>"
      ],
      "text/plain": [
       "   0.0200  0.0371  0.0428  0.0207  0.0954  0.0986  0.1539  0.1601  0.3109  \\\n",
       "0  0.0453  0.0523  0.0843  0.0689  0.1183  0.2583  0.2156  0.3481  0.3337   \n",
       "1  0.0262  0.0582  0.1099  0.1083  0.0974  0.2280  0.2431  0.3771  0.5598   \n",
       "2  0.0100  0.0171  0.0623  0.0205  0.0205  0.0368  0.1098  0.1276  0.0598   \n",
       "3  0.0762  0.0666  0.0481  0.0394  0.0590  0.0649  0.1209  0.2467  0.3564   \n",
       "4  0.0286  0.0453  0.0277  0.0174  0.0384  0.0990  0.1201  0.1833  0.2105   \n",
       "\n",
       "   0.2111 ...  0.0027  0.0065  0.0159  0.0072  0.0167  0.0180  0.0084  0.0090  \\\n",
       "0  0.2872 ...  0.0084  0.0089  0.0048  0.0094  0.0191  0.0140  0.0049  0.0052   \n",
       "1  0.6194 ...  0.0232  0.0166  0.0095  0.0180  0.0244  0.0316  0.0164  0.0095   \n",
       "2  0.1264 ...  0.0121  0.0036  0.0150  0.0085  0.0073  0.0050  0.0044  0.0040   \n",
       "3  0.4459 ...  0.0031  0.0054  0.0105  0.0110  0.0015  0.0072  0.0048  0.0107   \n",
       "4  0.3039 ...  0.0045  0.0014  0.0038  0.0013  0.0089  0.0057  0.0027  0.0051   \n",
       "\n",
       "   0.0032  R  \n",
       "0  0.0044  R  \n",
       "1  0.0078  R  \n",
       "2  0.0117  R  \n",
       "3  0.0094  R  \n",
       "4  0.0062  R  \n",
       "\n",
       "[5 rows x 61 columns]"
      ]
     },
     "execution_count": 5,
     "metadata": {},
     "output_type": "execute_result"
    }
   ],
   "source": [
    "df.head()"
   ]
  },
  {
   "cell_type": "code",
   "execution_count": 6,
   "metadata": {},
   "outputs": [],
   "source": [
    "df_x = df.loc[:,'0.0200':'0.0032']\n",
    "df_y=df.loc[:,'R']\n"
   ]
  },
  {
   "cell_type": "code",
   "execution_count": 7,
   "metadata": {},
   "outputs": [],
   "source": [
    "x_train,x_test,y_train,y_test=train_test_split(df_x,df_y,test_size=0.3,random_state=4)"
   ]
  },
  {
   "cell_type": "code",
   "execution_count": 8,
   "metadata": {},
   "outputs": [
    {
     "data": {
      "text/plain": [
       "RandomForestClassifier(bootstrap=True, class_weight=None, criterion='gini',\n",
       "            max_depth=None, max_features='auto', max_leaf_nodes=None,\n",
       "            min_impurity_decrease=0.0, min_impurity_split=None,\n",
       "            min_samples_leaf=1, min_samples_split=2,\n",
       "            min_weight_fraction_leaf=0.0, n_estimators=10, n_jobs=None,\n",
       "            oob_score=False, random_state=None, verbose=0,\n",
       "            warm_start=False)"
      ]
     },
     "execution_count": 8,
     "metadata": {},
     "output_type": "execute_result"
    }
   ],
   "source": [
    "rf=RandomForestClassifier(n_estimators=10)\n",
    "rf.fit(x_train,y_train)\n"
   ]
  },
  {
   "cell_type": "code",
   "execution_count": 11,
   "metadata": {},
   "outputs": [
    {
     "name": "stdout",
     "output_type": "stream",
     "text": [
      "0.7936507936507936\n"
     ]
    }
   ],
   "source": [
    "from sklearn.metrics import accuracy_score\n",
    "pr=rf.predict(x_test)\n",
    "accuracy=accuracy_score(y_test,pr)\n",
    "print (accuracy)"
   ]
  },
  {
   "cell_type": "code",
   "execution_count": 10,
   "metadata": {
    "scrolled": true
   },
   "outputs": [
    {
     "name": "stdout",
     "output_type": "stream",
     "text": [
      "[{'n_estimators': range(1, 10), 'max_depth': range(1, 10)}]\n"
     ]
    }
   ],
   "source": [
    "param_grid=[{'n_estimators':range(1 ,10) , 'max_depth' : range(1,10)}]\n",
    "print(param_grid)"
   ]
  },
  {
   "cell_type": "code",
   "execution_count": 11,
   "metadata": {},
   "outputs": [],
   "source": [
    "grid= GridSearchCV(rf,param_grid,cv=3)"
   ]
  },
  {
   "cell_type": "code",
   "execution_count": 12,
   "metadata": {},
   "outputs": [
    {
     "data": {
      "text/plain": [
       "GridSearchCV(cv=3, error_score='raise-deprecating',\n",
       "       estimator=RandomForestClassifier(bootstrap=True, class_weight=None, criterion='gini',\n",
       "            max_depth=None, max_features='auto', max_leaf_nodes=None,\n",
       "            min_impurity_decrease=0.0, min_impurity_split=None,\n",
       "            min_samples_leaf=1, min_samples_split=2,\n",
       "            min_weight_fraction_leaf=0.0, n_estimators=10, n_jobs=None,\n",
       "            oob_score=False, random_state=None, verbose=0,\n",
       "            warm_start=False),\n",
       "       fit_params=None, iid='warn', n_jobs=None,\n",
       "       param_grid=[{'n_estimators': range(1, 10), 'max_depth': range(1, 10)}],\n",
       "       pre_dispatch='2*n_jobs', refit=True, return_train_score='warn',\n",
       "       scoring=None, verbose=0)"
      ]
     },
     "execution_count": 12,
     "metadata": {},
     "output_type": "execute_result"
    }
   ],
   "source": [
    "grid.fit(df_x,df_y)"
   ]
  },
  {
   "cell_type": "code",
   "execution_count": 13,
   "metadata": {},
   "outputs": [
    {
     "data": {
      "text/plain": [
       "0.6956521739130435"
      ]
     },
     "execution_count": 13,
     "metadata": {},
     "output_type": "execute_result"
    }
   ],
   "source": [
    "grid.best_score_"
   ]
  },
  {
   "cell_type": "code",
   "execution_count": 14,
   "metadata": {},
   "outputs": [
    {
     "data": {
      "text/plain": [
       "{'max_depth': 2, 'n_estimators': 4}"
      ]
     },
     "execution_count": 14,
     "metadata": {},
     "output_type": "execute_result"
    }
   ],
   "source": [
    "grid.best_params_"
   ]
  },
  {
   "cell_type": "code",
   "execution_count": 15,
   "metadata": {},
   "outputs": [],
   "source": [
    "predict = grid.predict(x_test)"
   ]
  },
  {
   "cell_type": "code",
   "execution_count": 16,
   "metadata": {},
   "outputs": [
    {
     "data": {
      "text/plain": [
       "0.6507936507936508"
      ]
     },
     "execution_count": 16,
     "metadata": {},
     "output_type": "execute_result"
    }
   ],
   "source": [
    "from sklearn.metrics import accuracy_score\n",
    "accuracy=accuracy_score(y_test,predict)\n",
    "accuracy"
   ]
  },
  {
   "cell_type": "code",
   "execution_count": 17,
   "metadata": {},
   "outputs": [],
   "source": [
    "dt=DecisionTreeClassifier()\n",
    "params={'criterion':['gini','entropy'],'max_depth':range(1,20),'splitter':['random']}"
   ]
  },
  {
   "cell_type": "code",
   "execution_count": 18,
   "metadata": {},
   "outputs": [],
   "source": [
    "grid=GridSearchCV(dt,params,cv=10)"
   ]
  },
  {
   "cell_type": "code",
   "execution_count": 19,
   "metadata": {},
   "outputs": [
    {
     "name": "stderr",
     "output_type": "stream",
     "text": [
      "C:\\Users\\lenovo\\Anaconda3\\lib\\site-packages\\sklearn\\model_selection\\_search.py:841: DeprecationWarning: The default of the `iid` parameter will change from True to False in version 0.22 and will be removed in 0.24. This will change numeric results when test-set sizes are unequal.\n",
      "  DeprecationWarning)\n"
     ]
    },
    {
     "data": {
      "text/plain": [
       "GridSearchCV(cv=10, error_score='raise-deprecating',\n",
       "       estimator=DecisionTreeClassifier(class_weight=None, criterion='gini', max_depth=None,\n",
       "            max_features=None, max_leaf_nodes=None,\n",
       "            min_impurity_decrease=0.0, min_impurity_split=None,\n",
       "            min_samples_leaf=1, min_samples_split=2,\n",
       "            min_weight_fraction_leaf=0.0, presort=False, random_state=None,\n",
       "            splitter='best'),\n",
       "       fit_params=None, iid='warn', n_jobs=None,\n",
       "       param_grid={'criterion': ['gini', 'entropy'], 'max_depth': range(1, 20), 'splitter': ['random']},\n",
       "       pre_dispatch='2*n_jobs', refit=True, return_train_score='warn',\n",
       "       scoring=None, verbose=0)"
      ]
     },
     "execution_count": 19,
     "metadata": {},
     "output_type": "execute_result"
    }
   ],
   "source": [
    "grid.fit(df_x,df_y)"
   ]
  },
  {
   "cell_type": "code",
   "execution_count": 20,
   "metadata": {},
   "outputs": [
    {
     "data": {
      "text/plain": [
       "0.6956521739130435"
      ]
     },
     "execution_count": 20,
     "metadata": {},
     "output_type": "execute_result"
    }
   ],
   "source": [
    "grid.best_score_"
   ]
  },
  {
   "cell_type": "code",
   "execution_count": 21,
   "metadata": {},
   "outputs": [
    {
     "data": {
      "text/plain": [
       "{'criterion': 'gini', 'max_depth': 17, 'splitter': 'random'}"
      ]
     },
     "execution_count": 21,
     "metadata": {},
     "output_type": "execute_result"
    }
   ],
   "source": [
    "grid.best_params_"
   ]
  },
  {
   "cell_type": "code",
   "execution_count": 22,
   "metadata": {},
   "outputs": [],
   "source": [
    "predict=grid.predict(x_test)"
   ]
  },
  {
   "cell_type": "code",
   "execution_count": 23,
   "metadata": {},
   "outputs": [
    {
     "name": "stdout",
     "output_type": "stream",
     "text": [
      "['R' 'M' 'M' 'R' 'R' 'R' 'M' 'R' 'M' 'R' 'R' 'R' 'M' 'M' 'R' 'M' 'M' 'M'\n",
      " 'M' 'M' 'R' 'M' 'R' 'M' 'M' 'M' 'M' 'R' 'M' 'M' 'M' 'M' 'M' 'R' 'M' 'R'\n",
      " 'R' 'R' 'M' 'R' 'M' 'M' 'R' 'R' 'R' 'R' 'M' 'M' 'M' 'M' 'M' 'M' 'R' 'M'\n",
      " 'R' 'M' 'M' 'R' 'R' 'R' 'R' 'R' 'M']\n"
     ]
    }
   ],
   "source": [
    "print(predict)"
   ]
  },
  {
   "cell_type": "code",
   "execution_count": 24,
   "metadata": {},
   "outputs": [
    {
     "data": {
      "text/plain": [
       "1.0"
      ]
     },
     "execution_count": 24,
     "metadata": {},
     "output_type": "execute_result"
    }
   ],
   "source": [
    "accuracy=accuracy_score(y_test,predict)\n",
    "accuracy"
   ]
  },
  {
   "cell_type": "code",
   "execution_count": 25,
   "metadata": {},
   "outputs": [],
   "source": [
    "from sklearn.svm import SVC"
   ]
  },
  {
   "cell_type": "code",
   "execution_count": 26,
   "metadata": {},
   "outputs": [
    {
     "data": {
      "text/plain": [
       "SVC(C=1.0, cache_size=200, class_weight=None, coef0=0.0,\n",
       "  decision_function_shape='ovr', degree=3, gamma='auto_deprecated',\n",
       "  kernel='linear', max_iter=-1, probability=False, random_state=0,\n",
       "  shrinking=True, tol=0.001, verbose=False)"
      ]
     },
     "execution_count": 26,
     "metadata": {},
     "output_type": "execute_result"
    }
   ],
   "source": [
    "cls=SVC(kernel='linear', random_state=0)\n",
    "cls.fit(x_train,y_train)"
   ]
  },
  {
   "cell_type": "code",
   "execution_count": 27,
   "metadata": {},
   "outputs": [],
   "source": [
    "y_predict=cls.predict(x_test)"
   ]
  },
  {
   "cell_type": "code",
   "execution_count": 28,
   "metadata": {},
   "outputs": [],
   "source": [
    "accuracy=accuracy_score(y_test,y_predict)"
   ]
  },
  {
   "cell_type": "code",
   "execution_count": 29,
   "metadata": {},
   "outputs": [
    {
     "data": {
      "text/plain": [
       "0.7619047619047619"
      ]
     },
     "execution_count": 29,
     "metadata": {},
     "output_type": "execute_result"
    }
   ],
   "source": [
    "accuracy"
   ]
  },
  {
   "cell_type": "code",
   "execution_count": 43,
   "metadata": {},
   "outputs": [
    {
     "data": {
      "image/png": "[encoded data removed]",
      "text/plain": [
       "<Figure size 432x288 with 1 Axes>"
      ]
     },
     "metadata": {
      "needs_background": "light"
     },
     "output_type": "display_data"
    }
   ],
   "source": [
    "import matplotlib.pyplot as plt\n",
    "plt.plot(y_predict,y_test)\n",
    "plt.show()"
   ]
  },
  {
   "cell_type": "code",
   "execution_count": 30,
   "metadata": {},
   "outputs": [],
   "source": [
    "par=[{'C':[1,10,100,1000],'kernel':['linear']},{'C':[1,10,100,1000],'kernel':['rbf'],'gamma':[0.1,0.2,0.3,0.4,0.5,0.6,0.7,0.8,0.9]}]\n",
    "grid=GridSearchCV(cls,par,cv=10)"
   ]
  },
  {
   "cell_type": "code",
   "execution_count": 31,
   "metadata": {},
   "outputs": [
    {
     "name": "stderr",
     "output_type": "stream",
     "text": [
      "C:\\Users\\lenovo\\Anaconda3\\lib\\site-packages\\sklearn\\model_selection\\_search.py:841: DeprecationWarning: The default of the `iid` parameter will change from True to False in version 0.22 and will be removed in 0.24. This will change numeric results when test-set sizes are unequal.\n",
      "  DeprecationWarning)\n"
     ]
    },
    {
     "data": {
      "text/plain": [
       "GridSearchCV(cv=10, error_score='raise-deprecating',\n",
       "       estimator=SVC(C=1.0, cache_size=200, class_weight=None, coef0=0.0,\n",
       "  decision_function_shape='ovr', degree=3, gamma='auto_deprecated',\n",
       "  kernel='linear', max_iter=-1, probability=False, random_state=0,\n",
       "  shrinking=True, tol=0.001, verbose=False),\n",
       "       fit_params=None, iid='warn', n_jobs=None,\n",
       "       param_grid=[{'C': [1, 10, 100, 1000], 'kernel': ['linear']}, {'C': [1, 10, 100, 1000], 'kernel': ['rbf'], 'gamma': [0.1, 0.2, 0.3, 0.4, 0.5, 0.6, 0.7, 0.8, 0.9]}],\n",
       "       pre_dispatch='2*n_jobs', refit=True, return_train_score='warn',\n",
       "       scoring=None, verbose=0)"
      ]
     },
     "execution_count": 31,
     "metadata": {},
     "output_type": "execute_result"
    }
   ],
   "source": [
    "grid.fit(df_x,df_y)"
   ]
  },
  {
   "cell_type": "code",
   "execution_count": 32,
   "metadata": {},
   "outputs": [
    {
     "name": "stderr",
     "output_type": "stream",
     "text": [
      "C:\\Users\\lenovo\\Anaconda3\\lib\\site-packages\\sklearn\\utils\\deprecation.py:125: FutureWarning: You are accessing a training score ('split0_train_score'), which will not be available by default any more in 0.21. If you need training scores, please set return_train_score=True\n",
      "  warnings.warn(*warn_args, **warn_kwargs)\n",
      "C:\\Users\\lenovo\\Anaconda3\\lib\\site-packages\\sklearn\\utils\\deprecation.py:125: FutureWarning: You are accessing a training score ('split1_train_score'), which will not be available by default any more in 0.21. If you need training scores, please set return_train_score=True\n",
      "  warnings.warn(*warn_args, **warn_kwargs)\n",
      "C:\\Users\\lenovo\\Anaconda3\\lib\\site-packages\\sklearn\\utils\\deprecation.py:125: FutureWarning: You are accessing a training score ('split2_train_score'), which will not be available by default any more in 0.21. If you need training scores, please set return_train_score=True\n",
      "  warnings.warn(*warn_args, **warn_kwargs)\n",
      "C:\\Users\\lenovo\\Anaconda3\\lib\\site-packages\\sklearn\\utils\\deprecation.py:125: FutureWarning: You are accessing a training score ('split3_train_score'), which will not be available by default any more in 0.21. If you need training scores, please set return_train_score=True\n",
      "  warnings.warn(*warn_args, **warn_kwargs)\n",
      "C:\\Users\\lenovo\\Anaconda3\\lib\\site-packages\\sklearn\\utils\\deprecation.py:125: FutureWarning: You are accessing a training score ('split4_train_score'), which will not be available by default any more in 0.21. If you need training scores, please set return_train_score=True\n",
      "  warnings.warn(*warn_args, **warn_kwargs)\n",
      "C:\\Users\\lenovo\\Anaconda3\\lib\\site-packages\\sklearn\\utils\\deprecation.py:125: FutureWarning: You are accessing a training score ('split5_train_score'), which will not be available by default any more in 0.21. If you need training scores, please set return_train_score=True\n",
      "  warnings.warn(*warn_args, **warn_kwargs)\n",
      "C:\\Users\\lenovo\\Anaconda3\\lib\\site-packages\\sklearn\\utils\\deprecation.py:125: FutureWarning: You are accessing a training score ('split6_train_score'), which will not be available by default any more in 0.21. If you need training scores, please set return_train_score=True\n",
      "  warnings.warn(*warn_args, **warn_kwargs)\n",
      "C:\\Users\\lenovo\\Anaconda3\\lib\\site-packages\\sklearn\\utils\\deprecation.py:125: FutureWarning: You are accessing a training score ('split7_train_score'), which will not be available by default any more in 0.21. If you need training scores, please set return_train_score=True\n",
      "  warnings.warn(*warn_args, **warn_kwargs)\n",
      "C:\\Users\\lenovo\\Anaconda3\\lib\\site-packages\\sklearn\\utils\\deprecation.py:125: FutureWarning: You are accessing a training score ('split8_train_score'), which will not be available by default any more in 0.21. If you need training scores, please set return_train_score=True\n",
      "  warnings.warn(*warn_args, **warn_kwargs)\n",
      "C:\\Users\\lenovo\\Anaconda3\\lib\\site-packages\\sklearn\\utils\\deprecation.py:125: FutureWarning: You are accessing a training score ('split9_train_score'), which will not be available by default any more in 0.21. If you need training scores, please set return_train_score=True\n",
      "  warnings.warn(*warn_args, **warn_kwargs)\n",
      "C:\\Users\\lenovo\\Anaconda3\\lib\\site-packages\\sklearn\\utils\\deprecation.py:125: FutureWarning: You are accessing a training score ('mean_train_score'), which will not be available by default any more in 0.21. If you need training scores, please set return_train_score=True\n",
      "  warnings.warn(*warn_args, **warn_kwargs)\n",
      "C:\\Users\\lenovo\\Anaconda3\\lib\\site-packages\\sklearn\\utils\\deprecation.py:125: FutureWarning: You are accessing a training score ('std_train_score'), which will not be available by default any more in 0.21. If you need training scores, please set return_train_score=True\n",
      "  warnings.warn(*warn_args, **warn_kwargs)\n"
     ]
    },
    {
     "data": {
      "text/plain": [
       "{'mean_fit_time': array([0.00559585, 0.00468822, 0.02313349, 0.161639  , 0.00625031,\n",
       "        0.00468771, 0.0062501 , 0.00468748, 0.0031251 , 0.0062501 ,\n",
       "        0.0046876 , 0.00312514, 0.00624988, 0.00625014, 0.00468767,\n",
       "        0.00625014, 0.00781262, 0.0046875 , 0.00781245, 0.00625014,\n",
       "        0.00781236, 0.00781271, 0.00468748, 0.00468779, 0.00468748,\n",
       "        0.00781248, 0.00312493, 0.00468774, 0.00655541, 0.0046876 ,\n",
       "        0.00625005, 0.0093751 , 0.00468755, 0.00625024, 0.00625019,\n",
       "        0.00781255, 0.00625012, 0.00468802, 0.00625014, 0.00625021]),\n",
       " 'std_fit_time': array([0.00319545, 0.00716137, 0.00825857, 0.09945342, 0.00765504,\n",
       "        0.0071606 , 0.00765477, 0.00716024, 0.00625019, 0.00765477,\n",
       "        0.00716042, 0.00625029, 0.00765451, 0.00765483, 0.00716053,\n",
       "        0.00765483, 0.00781262, 0.00716027, 0.00781245, 0.00765483,\n",
       "        0.00781236, 0.00781271, 0.00716024, 0.00716071, 0.00716024,\n",
       "        0.00781248, 0.00624986, 0.00716064, 0.0080458 , 0.00716042,\n",
       "        0.00765471, 0.00765473, 0.00716035, 0.00765495, 0.00765489,\n",
       "        0.00781255, 0.0076548 , 0.00716108, 0.00765483, 0.00765492]),\n",
       " 'mean_score_time': array([0.00160735, 0.00312662, 0.        , 0.0023582 , 0.00156252,\n",
       "        0.0015625 , 0.00156255, 0.00156229, 0.00312479, 0.        ,\n",
       "        0.0015625 , 0.0015624 , 0.        , 0.00156252, 0.00156243,\n",
       "        0.0015625 , 0.00156252, 0.00156245, 0.        , 0.0015625 ,\n",
       "        0.00156257, 0.0015625 , 0.        , 0.00156255, 0.00156243,\n",
       "        0.0015625 , 0.00312495, 0.003125  , 0.0016597 , 0.00312507,\n",
       "        0.        , 0.00156248, 0.00156255, 0.        , 0.00156243,\n",
       "        0.        , 0.0031251 , 0.00156224, 0.00156245, 0.00312486]),\n",
       " 'std_score_time': array([0.00196864, 0.00625324, 0.        , 0.00469265, 0.00468757,\n",
       "        0.0046875 , 0.00468764, 0.00468686, 0.00624957, 0.        ,\n",
       "        0.0046875 , 0.00468721, 0.        , 0.00468757, 0.00468729,\n",
       "        0.0046875 , 0.00468757, 0.00468736, 0.        , 0.0046875 ,\n",
       "        0.00468771, 0.0046875 , 0.        , 0.00468764, 0.00468729,\n",
       "        0.0046875 , 0.0062499 , 0.00625   , 0.00497911, 0.00625014,\n",
       "        0.        , 0.00468743, 0.00468764, 0.        , 0.00468729,\n",
       "        0.        , 0.00625019, 0.00468671, 0.00468736, 0.00624971]),\n",
       " 'param_C': masked_array(data=[1, 10, 100, 1000, 1, 1, 1, 1, 1, 1, 1, 1, 1, 10, 10,\n",
       "                    10, 10, 10, 10, 10, 10, 10, 100, 100, 100, 100, 100,\n",
       "                    100, 100, 100, 100, 1000, 1000, 1000, 1000, 1000, 1000,\n",
       "                    1000, 1000, 1000],\n",
       "              mask=[False, False, False, False, False, False, False, False,\n",
       "                    False, False, False, False, False, False, False, False,\n",
       "                    False, False, False, False, False, False, False, False,\n",
       "                    False, False, False, False, False, False, False, False,\n",
       "                    False, False, False, False, False, False, False, False],\n",
       "        fill_value='?',\n",
       "             dtype=object),\n",
       " 'param_kernel': masked_array(data=['linear', 'linear', 'linear', 'linear', 'rbf', 'rbf',\n",
       "                    'rbf', 'rbf', 'rbf', 'rbf', 'rbf', 'rbf', 'rbf', 'rbf',\n",
       "                    'rbf', 'rbf', 'rbf', 'rbf', 'rbf', 'rbf', 'rbf', 'rbf',\n",
       "                    'rbf', 'rbf', 'rbf', 'rbf', 'rbf', 'rbf', 'rbf', 'rbf',\n",
       "                    'rbf', 'rbf', 'rbf', 'rbf', 'rbf', 'rbf', 'rbf', 'rbf',\n",
       "                    'rbf', 'rbf'],\n",
       "              mask=[False, False, False, False, False, False, False, False,\n",
       "                    False, False, False, False, False, False, False, False,\n",
       "                    False, False, False, False, False, False, False, False,\n",
       "                    False, False, False, False, False, False, False, False,\n",
       "                    False, False, False, False, False, False, False, False],\n",
       "        fill_value='?',\n",
       "             dtype=object),\n",
       " 'param_gamma': masked_array(data=[--, --, --, --, 0.1, 0.2, 0.3, 0.4, 0.5, 0.6, 0.7, 0.8,\n",
       "                    0.9, 0.1, 0.2, 0.3, 0.4, 0.5, 0.6, 0.7, 0.8, 0.9, 0.1,\n",
       "                    0.2, 0.3, 0.4, 0.5, 0.6, 0.7, 0.8, 0.9, 0.1, 0.2, 0.3,\n",
       "                    0.4, 0.5, 0.6, 0.7, 0.8, 0.9],\n",
       "              mask=[ True,  True,  True,  True, False, False, False, False,\n",
       "                    False, False, False, False, False, False, False, False,\n",
       "                    False, False, False, False, False, False, False, False,\n",
       "                    False, False, False, False, False, False, False, False,\n",
       "                    False, False, False, False, False, False, False, False],\n",
       "        fill_value='?',\n",
       "             dtype=object),\n",
       " 'params': [{'C': 1, 'kernel': 'linear'},\n",
       "  {'C': 10, 'kernel': 'linear'},\n",
       "  {'C': 100, 'kernel': 'linear'},\n",
       "  {'C': 1000, 'kernel': 'linear'},\n",
       "  {'C': 1, 'gamma': 0.1, 'kernel': 'rbf'},\n",
       "  {'C': 1, 'gamma': 0.2, 'kernel': 'rbf'},\n",
       "  {'C': 1, 'gamma': 0.3, 'kernel': 'rbf'},\n",
       "  {'C': 1, 'gamma': 0.4, 'kernel': 'rbf'},\n",
       "  {'C': 1, 'gamma': 0.5, 'kernel': 'rbf'},\n",
       "  {'C': 1, 'gamma': 0.6, 'kernel': 'rbf'},\n",
       "  {'C': 1, 'gamma': 0.7, 'kernel': 'rbf'},\n",
       "  {'C': 1, 'gamma': 0.8, 'kernel': 'rbf'},\n",
       "  {'C': 1, 'gamma': 0.9, 'kernel': 'rbf'},\n",
       "  {'C': 10, 'gamma': 0.1, 'kernel': 'rbf'},\n",
       "  {'C': 10, 'gamma': 0.2, 'kernel': 'rbf'},\n",
       "  {'C': 10, 'gamma': 0.3, 'kernel': 'rbf'},\n",
       "  {'C': 10, 'gamma': 0.4, 'kernel': 'rbf'},\n",
       "  {'C': 10, 'gamma': 0.5, 'kernel': 'rbf'},\n",
       "  {'C': 10, 'gamma': 0.6, 'kernel': 'rbf'},\n",
       "  {'C': 10, 'gamma': 0.7, 'kernel': 'rbf'},\n",
       "  {'C': 10, 'gamma': 0.8, 'kernel': 'rbf'},\n",
       "  {'C': 10, 'gamma': 0.9, 'kernel': 'rbf'},\n",
       "  {'C': 100, 'gamma': 0.1, 'kernel': 'rbf'},\n",
       "  {'C': 100, 'gamma': 0.2, 'kernel': 'rbf'},\n",
       "  {'C': 100, 'gamma': 0.3, 'kernel': 'rbf'},\n",
       "  {'C': 100, 'gamma': 0.4, 'kernel': 'rbf'},\n",
       "  {'C': 100, 'gamma': 0.5, 'kernel': 'rbf'},\n",
       "  {'C': 100, 'gamma': 0.6, 'kernel': 'rbf'},\n",
       "  {'C': 100, 'gamma': 0.7, 'kernel': 'rbf'},\n",
       "  {'C': 100, 'gamma': 0.8, 'kernel': 'rbf'},\n",
       "  {'C': 100, 'gamma': 0.9, 'kernel': 'rbf'},\n",
       "  {'C': 1000, 'gamma': 0.1, 'kernel': 'rbf'},\n",
       "  {'C': 1000, 'gamma': 0.2, 'kernel': 'rbf'},\n",
       "  {'C': 1000, 'gamma': 0.3, 'kernel': 'rbf'},\n",
       "  {'C': 1000, 'gamma': 0.4, 'kernel': 'rbf'},\n",
       "  {'C': 1000, 'gamma': 0.5, 'kernel': 'rbf'},\n",
       "  {'C': 1000, 'gamma': 0.6, 'kernel': 'rbf'},\n",
       "  {'C': 1000, 'gamma': 0.7, 'kernel': 'rbf'},\n",
       "  {'C': 1000, 'gamma': 0.8, 'kernel': 'rbf'},\n",
       "  {'C': 1000, 'gamma': 0.9, 'kernel': 'rbf'}],\n",
       " 'split0_test_score': array([0.22727273, 0.27272727, 0.31818182, 0.54545455, 0.31818182,\n",
       "        0.36363636, 0.40909091, 0.40909091, 0.5       , 0.54545455,\n",
       "        0.54545455, 0.68181818, 0.72727273, 0.40909091, 0.45454545,\n",
       "        0.5       , 0.5       , 0.54545455, 0.54545455, 0.54545455,\n",
       "        0.63636364, 0.63636364, 0.5       , 0.5       , 0.5       ,\n",
       "        0.5       , 0.54545455, 0.54545455, 0.54545455, 0.63636364,\n",
       "        0.63636364, 0.5       , 0.5       , 0.5       , 0.5       ,\n",
       "        0.54545455, 0.54545455, 0.54545455, 0.63636364, 0.63636364]),\n",
       " 'split1_test_score': array([0.76190476, 0.76190476, 0.61904762, 0.66666667, 0.80952381,\n",
       "        0.76190476, 0.80952381, 0.80952381, 0.76190476, 0.76190476,\n",
       "        0.76190476, 0.76190476, 0.76190476, 0.76190476, 0.76190476,\n",
       "        0.76190476, 0.76190476, 0.76190476, 0.80952381, 0.80952381,\n",
       "        0.80952381, 0.80952381, 0.76190476, 0.76190476, 0.76190476,\n",
       "        0.76190476, 0.76190476, 0.80952381, 0.80952381, 0.80952381,\n",
       "        0.80952381, 0.76190476, 0.76190476, 0.76190476, 0.76190476,\n",
       "        0.76190476, 0.80952381, 0.80952381, 0.80952381, 0.80952381]),\n",
       " 'split2_test_score': array([0.76190476, 0.66666667, 0.61904762, 0.66666667, 0.76190476,\n",
       "        0.76190476, 0.76190476, 0.76190476, 0.76190476, 0.76190476,\n",
       "        0.76190476, 0.76190476, 0.76190476, 0.76190476, 0.76190476,\n",
       "        0.71428571, 0.66666667, 0.66666667, 0.66666667, 0.61904762,\n",
       "        0.61904762, 0.61904762, 0.66666667, 0.71428571, 0.66666667,\n",
       "        0.66666667, 0.66666667, 0.66666667, 0.61904762, 0.61904762,\n",
       "        0.61904762, 0.71428571, 0.71428571, 0.66666667, 0.66666667,\n",
       "        0.66666667, 0.66666667, 0.61904762, 0.61904762, 0.61904762]),\n",
       " 'split3_test_score': array([0.71428571, 0.66666667, 0.57142857, 0.71428571, 0.71428571,\n",
       "        0.66666667, 0.66666667, 0.66666667, 0.66666667, 0.61904762,\n",
       "        0.61904762, 0.61904762, 0.61904762, 0.71428571, 0.66666667,\n",
       "        0.66666667, 0.66666667, 0.66666667, 0.66666667, 0.66666667,\n",
       "        0.61904762, 0.61904762, 0.66666667, 0.66666667, 0.66666667,\n",
       "        0.66666667, 0.66666667, 0.66666667, 0.66666667, 0.61904762,\n",
       "        0.61904762, 0.66666667, 0.66666667, 0.66666667, 0.66666667,\n",
       "        0.66666667, 0.66666667, 0.66666667, 0.61904762, 0.61904762]),\n",
       " 'split4_test_score': array([0.61904762, 0.61904762, 0.66666667, 0.66666667, 0.61904762,\n",
       "        0.57142857, 0.52380952, 0.47619048, 0.47619048, 0.47619048,\n",
       "        0.52380952, 0.52380952, 0.52380952, 0.57142857, 0.47619048,\n",
       "        0.47619048, 0.47619048, 0.47619048, 0.47619048, 0.47619048,\n",
       "        0.47619048, 0.52380952, 0.61904762, 0.52380952, 0.52380952,\n",
       "        0.47619048, 0.47619048, 0.47619048, 0.47619048, 0.47619048,\n",
       "        0.52380952, 0.57142857, 0.52380952, 0.52380952, 0.47619048,\n",
       "        0.47619048, 0.47619048, 0.47619048, 0.47619048, 0.52380952]),\n",
       " 'split5_test_score': array([0.61904762, 0.52380952, 0.47619048, 0.61904762, 0.42857143,\n",
       "        0.47619048, 0.47619048, 0.42857143, 0.38095238, 0.33333333,\n",
       "        0.28571429, 0.28571429, 0.28571429, 0.61904762, 0.52380952,\n",
       "        0.61904762, 0.47619048, 0.47619048, 0.47619048, 0.38095238,\n",
       "        0.33333333, 0.33333333, 0.61904762, 0.57142857, 0.57142857,\n",
       "        0.47619048, 0.47619048, 0.47619048, 0.38095238, 0.33333333,\n",
       "        0.33333333, 0.61904762, 0.57142857, 0.57142857, 0.47619048,\n",
       "        0.47619048, 0.47619048, 0.38095238, 0.33333333, 0.33333333]),\n",
       " 'split6_test_score': array([0.95, 0.9 , 0.85, 0.95, 0.75, 0.75, 0.6 , 0.6 , 0.6 , 0.6 , 0.6 ,\n",
       "        0.6 , 0.6 , 0.7 , 0.6 , 0.6 , 0.6 , 0.6 , 0.6 , 0.6 , 0.6 , 0.55,\n",
       "        0.65, 0.6 , 0.6 , 0.6 , 0.6 , 0.6 , 0.6 , 0.6 , 0.55, 0.65, 0.6 ,\n",
       "        0.6 , 0.6 , 0.6 , 0.6 , 0.6 , 0.6 , 0.55]),\n",
       " 'split7_test_score': array([0.9 , 0.8 , 0.8 , 0.85, 0.7 , 0.8 , 0.8 , 0.8 , 0.8 , 0.8 , 0.75,\n",
       "        0.75, 0.75, 0.9 , 0.8 , 0.8 , 0.75, 0.8 , 0.8 , 0.8 , 0.8 , 0.8 ,\n",
       "        0.85, 0.85, 0.8 , 0.8 , 0.8 , 0.8 , 0.8 , 0.8 , 0.8 , 0.85, 0.85,\n",
       "        0.8 , 0.8 , 0.8 , 0.8 , 0.8 , 0.8 , 0.8 ]),\n",
       " 'split8_test_score': array([0.5 , 0.45, 0.35, 0.45, 0.35, 0.6 , 0.6 , 0.6 , 0.55, 0.45, 0.5 ,\n",
       "        0.45, 0.45, 0.7 , 0.7 , 0.7 , 0.75, 0.75, 0.75, 0.75, 0.75, 0.75,\n",
       "        0.6 , 0.7 , 0.7 , 0.75, 0.75, 0.75, 0.75, 0.75, 0.75, 0.7 , 0.7 ,\n",
       "        0.7 , 0.75, 0.75, 0.75, 0.75, 0.75, 0.75]),\n",
       " 'split9_test_score': array([0.8 , 0.7 , 0.75, 0.9 , 0.7 , 0.7 , 0.75, 0.75, 0.75, 0.7 , 0.65,\n",
       "        0.65, 0.7 , 0.8 , 0.8 , 0.7 , 0.65, 0.65, 0.65, 0.65, 0.65, 0.65,\n",
       "        0.7 , 0.7 , 0.65, 0.65, 0.65, 0.65, 0.65, 0.65, 0.65, 0.7 , 0.7 ,\n",
       "        0.65, 0.65, 0.65, 0.65, 0.65, 0.65, 0.65]),\n",
       " 'mean_test_score': array([0.68115942, 0.63285024, 0.59903382, 0.70048309, 0.61352657,\n",
       "        0.64251208, 0.63768116, 0.62801932, 0.62318841, 0.60386473,\n",
       "        0.59903382, 0.60869565, 0.61835749, 0.69082126, 0.65217391,\n",
       "        0.65217391, 0.62801932, 0.63768116, 0.64251208, 0.62801932,\n",
       "        0.62801932, 0.62801932, 0.66183575, 0.65700483, 0.64251208,\n",
       "        0.63285024, 0.63768116, 0.64251208, 0.62801932, 0.62801932,\n",
       "        0.62801932, 0.67149758, 0.65700483, 0.64251208, 0.63285024,\n",
       "        0.63768116, 0.64251208, 0.62801932, 0.62801932, 0.62801932]),\n",
       " 'std_test_score': array([0.20064343, 0.17375713, 0.16946489, 0.14723393, 0.17279776,\n",
       "        0.13617121, 0.13490789, 0.1456962 , 0.13783182, 0.14639257,\n",
       "        0.14022107, 0.14556872, 0.15054438, 0.12992712, 0.12702603,\n",
       "        0.10082128, 0.10741675, 0.10884758, 0.11512919, 0.13105524,\n",
       "        0.13759423, 0.1349353 , 0.09011221, 0.10436108, 0.09252455,\n",
       "        0.11373269, 0.10884758, 0.11512919, 0.13105524, 0.13759423,\n",
       "        0.1349353 , 0.09337196, 0.10436108, 0.09252455, 0.11373269,\n",
       "        0.10884758, 0.11512919, 0.13105524, 0.13759423, 0.1349353 ]),\n",
       " 'rank_test_score': array([ 3, 20, 39,  1, 36, 10, 16, 23, 34, 38, 39, 37, 35,  2,  8,  8, 23,\n",
       "        16, 10, 23, 23, 23,  5,  6, 10, 20, 16, 10, 23, 23, 23,  4,  6, 10,\n",
       "        20, 16, 10, 23, 23, 23]),\n",
       " 'split0_train_score': array([0.89189189, 0.91891892, 0.96216216, 1.        , 0.86486486,\n",
       "        0.92972973, 0.95675676, 0.96216216, 0.96216216, 0.96756757,\n",
       "        0.97297297, 0.98378378, 0.98378378, 0.95675676, 0.99459459,\n",
       "        1.        , 1.        , 1.        , 1.        , 1.        ,\n",
       "        1.        , 1.        , 1.        , 1.        , 1.        ,\n",
       "        1.        , 1.        , 1.        , 1.        , 1.        ,\n",
       "        1.        , 1.        , 1.        , 1.        , 1.        ,\n",
       "        1.        , 1.        , 1.        , 1.        , 1.        ]),\n",
       " 'split1_train_score': array([0.84946237, 0.90860215, 0.91935484, 0.97311828, 0.84408602,\n",
       "        0.88172043, 0.90860215, 0.93548387, 0.95698925, 0.96774194,\n",
       "        0.98924731, 0.98924731, 0.98924731, 0.94086022, 1.        ,\n",
       "        1.        , 1.        , 1.        , 1.        , 1.        ,\n",
       "        1.        , 1.        , 1.        , 1.        , 1.        ,\n",
       "        1.        , 1.        , 1.        , 1.        , 1.        ,\n",
       "        1.        , 1.        , 1.        , 1.        , 1.        ,\n",
       "        1.        , 1.        , 1.        , 1.        , 1.        ]),\n",
       " 'split2_train_score': array([0.85483871, 0.89247312, 0.93548387, 0.96236559, 0.85483871,\n",
       "        0.90322581, 0.91397849, 0.94623656, 0.96236559, 0.97311828,\n",
       "        0.97849462, 0.97849462, 0.97849462, 0.92473118, 0.98924731,\n",
       "        1.        , 1.        , 1.        , 1.        , 1.        ,\n",
       "        1.        , 1.        , 1.        , 1.        , 1.        ,\n",
       "        1.        , 1.        , 1.        , 1.        , 1.        ,\n",
       "        1.        , 1.        , 1.        , 1.        , 1.        ,\n",
       "        1.        , 1.        , 1.        , 1.        , 1.        ]),\n",
       " 'split3_train_score': array([0.82795699, 0.88172043, 0.90860215, 0.94623656, 0.80645161,\n",
       "        0.88172043, 0.92473118, 0.94086022, 0.94623656, 0.95698925,\n",
       "        0.97311828, 0.97311828, 0.97849462, 0.94086022, 0.98387097,\n",
       "        1.        , 1.        , 1.        , 1.        , 1.        ,\n",
       "        1.        , 1.        , 1.        , 1.        , 1.        ,\n",
       "        1.        , 1.        , 1.        , 1.        , 1.        ,\n",
       "        1.        , 1.        , 1.        , 1.        , 1.        ,\n",
       "        1.        , 1.        , 1.        , 1.        , 1.        ]),\n",
       " 'split4_train_score': array([0.85483871, 0.90322581, 0.93010753, 0.95698925, 0.8655914 ,\n",
       "        0.88709677, 0.92473118, 0.95698925, 0.96236559, 0.96774194,\n",
       "        0.97311828, 0.97311828, 0.98387097, 0.94086022, 0.99462366,\n",
       "        1.        , 1.        , 1.        , 1.        , 1.        ,\n",
       "        1.        , 1.        , 1.        , 1.        , 1.        ,\n",
       "        1.        , 1.        , 1.        , 1.        , 1.        ,\n",
       "        1.        , 1.        , 1.        , 1.        , 1.        ,\n",
       "        1.        , 1.        , 1.        , 1.        , 1.        ]),\n",
       " 'split5_train_score': array([0.84408602, 0.89784946, 0.92473118, 0.96774194, 0.8655914 ,\n",
       "        0.89784946, 0.9516129 , 0.96236559, 0.96774194, 0.97311828,\n",
       "        0.98387097, 0.98387097, 0.98924731, 0.94623656, 0.98924731,\n",
       "        1.        , 1.        , 1.        , 1.        , 1.        ,\n",
       "        1.        , 1.        , 1.        , 1.        , 1.        ,\n",
       "        1.        , 1.        , 1.        , 1.        , 1.        ,\n",
       "        1.        , 1.        , 1.        , 1.        , 1.        ,\n",
       "        1.        , 1.        , 1.        , 1.        , 1.        ]),\n",
       " 'split6_train_score': array([0.81283422, 0.87165775, 0.9144385 , 0.93582888, 0.83957219,\n",
       "        0.87700535, 0.93048128, 0.94117647, 0.95187166, 0.96256684,\n",
       "        0.97326203, 0.97860963, 0.97860963, 0.95721925, 0.98930481,\n",
       "        1.        , 1.        , 1.        , 1.        , 1.        ,\n",
       "        1.        , 1.        , 1.        , 1.        , 1.        ,\n",
       "        1.        , 1.        , 1.        , 1.        , 1.        ,\n",
       "        1.        , 1.        , 1.        , 1.        , 1.        ,\n",
       "        1.        , 1.        , 1.        , 1.        , 1.        ]),\n",
       " 'split7_train_score': array([0.83957219, 0.88235294, 0.90909091, 0.95721925, 0.82887701,\n",
       "        0.85561497, 0.9144385 , 0.93048128, 0.94117647, 0.96256684,\n",
       "        0.96256684, 0.96791444, 0.97860963, 0.95187166, 0.98395722,\n",
       "        1.        , 1.        , 1.        , 1.        , 1.        ,\n",
       "        1.        , 1.        , 1.        , 1.        , 1.        ,\n",
       "        1.        , 1.        , 1.        , 1.        , 1.        ,\n",
       "        1.        , 1.        , 1.        , 1.        , 1.        ,\n",
       "        1.        , 1.        , 1.        , 1.        , 1.        ]),\n",
       " 'split8_train_score': array([0.87700535, 0.9197861 , 0.94117647, 0.97326203, 0.86096257,\n",
       "        0.9144385 , 0.93582888, 0.94652406, 0.95721925, 0.97326203,\n",
       "        0.97860963, 0.97860963, 0.98395722, 0.95187166, 0.98395722,\n",
       "        0.99465241, 1.        , 1.        , 1.        , 1.        ,\n",
       "        1.        , 1.        , 1.        , 1.        , 1.        ,\n",
       "        1.        , 1.        , 1.        , 1.        , 1.        ,\n",
       "        1.        , 1.        , 1.        , 1.        , 1.        ,\n",
       "        1.        , 1.        , 1.        , 1.        , 1.        ]),\n",
       " 'split9_train_score': array([0.84491979, 0.88235294, 0.9197861 , 0.94652406, 0.82352941,\n",
       "        0.87165775, 0.9197861 , 0.95187166, 0.96256684, 0.97326203,\n",
       "        0.97860963, 0.98395722, 0.98395722, 0.95721925, 0.98395722,\n",
       "        1.        , 1.        , 1.        , 1.        , 1.        ,\n",
       "        1.        , 1.        , 1.        , 1.        , 1.        ,\n",
       "        1.        , 1.        , 1.        , 1.        , 1.        ,\n",
       "        1.        , 1.        , 1.        , 1.        , 1.        ,\n",
       "        1.        , 1.        , 1.        , 1.        , 1.        ]),\n",
       " 'mean_train_score': array([0.84974062, 0.89589396, 0.92649337, 0.96192858, 0.84543652,\n",
       "        0.89000592, 0.92809474, 0.94741511, 0.95706953, 0.9677935 ,\n",
       "        0.97638706, 0.97907242, 0.98282723, 0.9468487 , 0.98927603,\n",
       "        0.99946524, 1.        , 1.        , 1.        , 1.        ,\n",
       "        1.        , 1.        , 1.        , 1.        , 1.        ,\n",
       "        1.        , 1.        , 1.        , 1.        , 1.        ,\n",
       "        1.        , 1.        , 1.        , 1.        , 1.        ,\n",
       "        1.        , 1.        , 1.        , 1.        , 1.        ]),\n",
       " 'std_train_score': array([0.02137142, 0.01576948, 0.01564947, 0.01717086, 0.0195692 ,\n",
       "        0.02060434, 0.01515754, 0.01032326, 0.00789393, 0.00536601,\n",
       "        0.00685205, 0.00607272, 0.0040014 , 0.00980241, 0.00534766,\n",
       "        0.00160428, 0.        , 0.        , 0.        , 0.        ,\n",
       "        0.        , 0.        , 0.        , 0.        , 0.        ,\n",
       "        0.        , 0.        , 0.        , 0.        , 0.        ,\n",
       "        0.        , 0.        , 0.        , 0.        , 0.        ,\n",
       "        0.        , 0.        , 0.        , 0.        , 0.        ])}"
      ]
     },
     "execution_count": 32,
     "metadata": {},
     "output_type": "execute_result"
    }
   ],
   "source": [
    "grid.cv_results_\n"
   ]
  },
  {
   "cell_type": "code",
   "execution_count": 33,
   "metadata": {},
   "outputs": [
    {
     "data": {
      "text/plain": [
       "{'C': 1000, 'kernel': 'linear'}"
      ]
     },
     "execution_count": 33,
     "metadata": {},
     "output_type": "execute_result"
    }
   ],
   "source": [
    "grid.best_params_"
   ]
  },
  {
   "cell_type": "code",
   "execution_count": 34,
   "metadata": {},
   "outputs": [],
   "source": [
    "pred=grid.predict(x_test)"
   ]
  },
  {
   "cell_type": "code",
   "execution_count": 35,
   "metadata": {},
   "outputs": [],
   "source": [
    "accuracy=accuracy_score(y_test,pred)"
   ]
  },
  {
   "cell_type": "code",
   "execution_count": 36,
   "metadata": {},
   "outputs": [
    {
     "data": {
      "text/plain": [
       "0.873015873015873"
      ]
     },
     "execution_count": 36,
     "metadata": {},
     "output_type": "execute_result"
    }
   ],
   "source": [
    "accuracy"
   ]
  },
  {
   "cell_type": "code",
   "execution_count": 39,
   "metadata": {},
   "outputs": [
    {
     "data": {
      "image/png": "[encoded data removed]",
      "text/plain": [
       "<Figure size 432x288 with 1 Axes>"
      ]
     },
     "metadata": {
      "needs_background": "light"
     },
     "output_type": "display_data"
    }
   ],
   "source": [
    "import matplotlib.pyplot as plt\n",
    "plt.plot(pred,y_test)\n",
    "plt.show()"
   ]
  },
  {
   "cell_type": "code",
   "execution_count": null,
   "metadata": {},
   "outputs": [],
   "source": []
  }
 ],
 "metadata": {
  "kernelspec": {
   "display_name": "Python 3",
   "language": "python",
   "name": "python3"
  },
  "language_info": {
   "codemirror_mode": {
    "name": "ipython",
    "version": 3
   },
   "file_extension": ".py",
   "mimetype": "text/x-python",
   "name": "python",
   "nbconvert_exporter": "python",
   "pygments_lexer": "ipython3",
   "version": "3.7.1"
  }
 },
 "nbformat": 4,
 "nbformat_minor": 2
}
